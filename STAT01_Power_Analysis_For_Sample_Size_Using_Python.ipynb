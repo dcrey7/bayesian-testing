{
  "nbformat": 4,
  "nbformat_minor": 0,
  "metadata": {
    "colab": {
      "name": "Copy of STAT01_Power Analysis For Sample Size Using Python.ipynb",
      "provenance": [],
      "include_colab_link": true
    },
    "kernelspec": {
      "name": "python3",
      "display_name": "Python 3"
    },
    "language_info": {
      "name": "python"
    }
  },
  "cells": [
    {
      "cell_type": "markdown",
      "metadata": {
        "id": "view-in-github",
        "colab_type": "text"
      },
      "source": [
        "<a href=\"https://colab.research.google.com/github/dcrey7/bayesian-testing/blob/main/STAT01_Power_Analysis_For_Sample_Size_Using_Python.ipynb\" target=\"_parent\"><img src=\"https://colab.research.google.com/assets/colab-badge.svg\" alt=\"Open In Colab\"/></a>"
      ]
    },
    {
      "cell_type": "markdown",
      "source": [
        "- [Blog](https://pub.towardsai.net/power-analysis-for-sample-size-using-python-33da7d5f570d) post for the tutorial\n",
        "- Video tutorial for this post on [YouTube](https://www.youtube.com/watch?v=rrFDeTEX37Q&list=PLVppujud2yJp5G5WwOWR4P2nXfdT5Pkxc&index=1)\n",
        "- Click [here](https://mailchi.mp/f561ff83e739/mfl1gl8ksd) for the Colab notebook.\n",
        "- More video tutorials on [statistics](https://www.youtube.com/playlist?list=PLVppujud2yJp5G5WwOWR4P2nXfdT5Pkxc)\n",
        "- More blog posts on [statistics](https://medium.com/@AmyGrabNGoInfo/list/statistics-4dbda6b2001e)\n",
        "- If you are not a Medium member and want to support me as a writer (😄 Buy me a cup of coffee ☕), join Medium membership through [this link](https://medium.com/@AmyGrabNGoInfo/membership). You will get full access to posts on Medium for $5 per month, and I will receive a portion of it. Thank you for your support!"
      ],
      "metadata": {
        "id": "n_ZM6PSEyyOj"
      }
    },
    {
      "cell_type": "markdown",
      "source": [
        "# Intro"
      ],
      "metadata": {
        "id": "iNfGAKyPyv8-"
      }
    },
    {
      "cell_type": "markdown",
      "metadata": {
        "id": "8joJcizD2ObX"
      },
      "source": [
        "Power analysis is a statistical analysis based on significance level, effect size, statistical power, and sample size. We can use it to calculate any one of the four values given the other three. Power analysis and sample size calculation are common interview questions for data analyst, data scientist, and machine learning engineer positions.\n",
        "\n",
        "In this tutorial, we will cover\n",
        "* What are significance level, effect size, statistical power, and sample size?\n",
        "* How to calculate the sample size for hypothesis testing (AB testing) using Python?\n",
        "* How to calculate the statistical power using Python?\n",
        "* How to calculate the minimum detectable effect size using Python?\n",
        "* How to calculate the significance level using Python?\n",
        "* How do sample size, significance level, and effect size impact the statistical power?\n",
        "\n",
        "Let's get started!"
      ]
    },
    {
      "cell_type": "markdown",
      "metadata": {
        "id": "pESFWUbO8fMv"
      },
      "source": [
        "# Step 0: What are significance level, effect size, statistical power, and sample size"
      ]
    },
    {
      "cell_type": "markdown",
      "metadata": {
        "id": "7Di8ZPEsDXL-"
      },
      "source": [
        "Power analysis is commonly used for sample size calculations in hypothesis testing. This step will talk about the four components of power analysis: significance level, effect size, statistical power, and sample size.\n",
        "* Significance level is also called alpha. It is the probability of rejecting the null hypothesis when it is true. Alpha tells us about the false positive rate or type I error. A commonly used alpha value is 0.05.\n",
        "* Effect size is the magnitude of the difference between the null hypothesis and alternative hypothesis.  \n",
        " * Other factors being the same, we need a larger sample size to detect a smaller effect size. \n",
        " * The more significant effect size is, the less likely the difference between treatment and control is due to random error. Conversely, when there is more variability in the dataset, the difference is more likely due to random error.\n",
        " * Cohen's d measures the distance between the mean of treatment and control group while considering the standard deviation. Usually, the Cohen's d value of 0.2 is considered to be a small effect size, 0.5 a medium effect size, and 0.8 a large effect size.\n",
        " * The effect size needs to be meaningful from a business perspective.\n",
        "* Statistical power is the probability of correctly rejecting the null hypothesis. Or we can say it's the probability of detecting an effect if it exists. Power equals one minus beta, where beta is the false negative rate or type II error. 0.8 is a commonly used value for power.\n",
        "* Sample size is the minimum sample size needed per group. "
      ]
    },
    {
      "cell_type": "markdown",
      "metadata": {
        "id": "lOs4VgcWb6Pw"
      },
      "source": [
        "# Step 1: Import Libraries"
      ]
    },
    {
      "cell_type": "markdown",
      "metadata": {
        "id": "LDlcg57Lh611"
      },
      "source": [
        "In the first step, we will import libraries for the power analysis. \n",
        "\n",
        "`numpy` is for data calculation. `TTestIndPower` is imported from `statsmodels` for power analysis of a two-sample independent t-test. `matplotlib` is for visualization."
      ]
    },
    {
      "cell_type": "code",
      "metadata": {
        "id": "IFL3LKhuytgG"
      },
      "source": [
        "# Data calculation\n",
        "import numpy as np\n",
        "\n",
        "# Power analysis\n",
        "from statsmodels.stats.power import TTestIndPower\n",
        "\n",
        "# Visualization\n",
        "import matplotlib.pyplot as plt"
      ],
      "execution_count": null,
      "outputs": []
    },
    {
      "cell_type": "markdown",
      "metadata": {
        "id": "yDkSfY2KeNcI"
      },
      "source": [
        "# Step 2: Calculate Sample Size"
      ]
    },
    {
      "cell_type": "markdown",
      "metadata": {
        "id": "zpooeckfjTpJ"
      },
      "source": [
        "In step 2, we will calculate the sample size needed for a two-sample t-test. To calculate the sample size, we need to provide effect size, alpha, and power values.\n",
        "\n",
        "Effect size refers to the standardized effect size. The difference between the treatment and control group mean is divided by the pooled standard deviation. The `effect_size` value needs to be a positive number. We use the value 0.2 for the effect size, which is a small effect size value.\n",
        "\n",
        "`alpha` is the significance level, and `power` is the statistical power. We use the commonly used value of 0.05 for `alpha` and 0.8 for `power`.\n",
        "\n",
        "We are doing a two-sided hypothesis testing, so `alternative = 'two-sided'`."
      ]
    },
    {
      "cell_type": "code",
      "metadata": {
        "colab": {
          "base_uri": "https://localhost:8080/"
        },
        "id": "SZ4n5FIje46g",
        "outputId": "cdd44f52-b4c4-4fec-b57a-2575dacbf0e1"
      },
      "source": [
        "# Initiate the power analysis\n",
        "power_analysis = TTestIndPower()\n",
        "\n",
        "# Calculate sample size\n",
        "sample_size = power_analysis.solve_power(effect_size = 0.2, alpha = 0.05, power = 0.8, alternative = 'two-sided')\n",
        "\n",
        "# Print results\n",
        "print('The sample size needed for each group is', round(sample_size))"
      ],
      "execution_count": null,
      "outputs": [
        {
          "output_type": "stream",
          "name": "stdout",
          "text": [
            "The sample size needed for each group is 393\n"
          ]
        }
      ]
    },
    {
      "cell_type": "markdown",
      "metadata": {
        "id": "nzWinxzdSY2W"
      },
      "source": [
        "The power analysis gave us a sample size of 393. That means we need at least 393 samples in each AB testing group to detect a slight difference with 80% power and a 5% significance level."
      ]
    },
    {
      "cell_type": "markdown",
      "metadata": {
        "id": "Hjx-agj__N0v"
      },
      "source": [
        "# Step 3: Calculate Power"
      ]
    },
    {
      "cell_type": "markdown",
      "metadata": {
        "id": "XereSzz_S1U5"
      },
      "source": [
        "In step 3, we will calculate the power using effect size, significance level, and sample size.\n",
        "\n",
        "We use the sample size 393, which was calculated from the previous step, for the power calculation.\n",
        "\n",
        "`ratio = 1` means the number of samples in the control and treatment groups are the same."
      ]
    },
    {
      "cell_type": "code",
      "metadata": {
        "colab": {
          "base_uri": "https://localhost:8080/"
        },
        "id": "SiY8rkhY_RTc",
        "outputId": "0862e799-d451-4f01-a904-7ae0bad1815c"
      },
      "source": [
        "# Initiate the power analysis\n",
        "power_analysis = TTestIndPower()\n",
        "\n",
        "# Calculate power\n",
        "power = power_analysis.power(effect_size = 0.2, alpha = 0.05, nobs1 = 393, ratio = 1, alternative = 'two-sided')\n",
        "\n",
        "# Print results\n",
        "print('The power for the hypothesis testing is', round(power, 2))"
      ],
      "execution_count": null,
      "outputs": [
        {
          "output_type": "stream",
          "name": "stdout",
          "text": [
            "The power for the hypothesis testing is 0.8\n"
          ]
        }
      ]
    },
    {
      "cell_type": "markdown",
      "metadata": {
        "id": "UwRk1ZKrT0PZ"
      },
      "source": [
        "We get the power of 0.8, which is consistent with the previous results in the sample size calculation."
      ]
    },
    {
      "cell_type": "markdown",
      "metadata": {
        "id": "q1wm-oIRkoaF"
      },
      "source": [
        "# Step 4: Calculate Effect Size"
      ]
    },
    {
      "cell_type": "markdown",
      "metadata": {
        "id": "h7tfbpdQkuXS"
      },
      "source": [
        "There are different ways of calculating effect size. Cohen's d is one of the most widely used methods for effect size calculation. In step 4, we will calculate effect size using Cohen's d's equation.\n",
        "\n",
        "Cohen's d's equation needs the mean, standard deviation, and sample sizes for the treatment and control group. It first calculates the pooled standard deviation and then uses the mean difference divided by the pooled standard deviation.\n",
        "\n"
      ]
    },
    {
      "cell_type": "code",
      "metadata": {
        "colab": {
          "base_uri": "https://localhost:8080/"
        },
        "id": "GEYrKuKgA63j",
        "outputId": "5ae057aa-fc09-474d-d098-65d3c704bd5a"
      },
      "source": [
        "# Input parameters\n",
        "mu1 = 2.1 # Group 1 average value\n",
        "mu2 = 1.9 # Group 2 average value\n",
        "s1 = 0.6 # Group 1 standard deviation\n",
        "s2 = 0.5 # Group 2 standard deviation\n",
        "n1 = 400 # Group 1 sample size\n",
        "n2 = 400 # Group 2 sample size\n",
        "\n",
        "# Calculate the pooled standard deviation\n",
        "s = np.sqrt(((n1 - 1) * s1 + (n2 - 1) * s2) / (n1 + n2 - 2))\n",
        "\n",
        "# Calculate the Cohen's d effect size\n",
        "d = (mu1 - mu2) / s\n",
        "\n",
        "# Print results\n",
        "print('The effect size for the hypothesis testing is', round(d, 2))"
      ],
      "execution_count": null,
      "outputs": [
        {
          "output_type": "stream",
          "name": "stdout",
          "text": [
            "The effect size for the hypothesis testing is 0.27\n"
          ]
        }
      ]
    },
    {
      "cell_type": "markdown",
      "metadata": {
        "id": "APRyyAWvYSIi"
      },
      "source": [
        "We get the effect size of 0.27, which is a relatively small Cohen's d value."
      ]
    },
    {
      "cell_type": "markdown",
      "metadata": {
        "id": "DjihnX25GN-N"
      },
      "source": [
        "# Step 5: Calculate Significance Level"
      ]
    },
    {
      "cell_type": "markdown",
      "metadata": {
        "id": "cJGWkZNFYnP0"
      },
      "source": [
        "In step 5, we will calculate the significance level given the other three values."
      ]
    },
    {
      "cell_type": "code",
      "metadata": {
        "colab": {
          "base_uri": "https://localhost:8080/"
        },
        "id": "u_QIdcJDGzZX",
        "outputId": "dd4757e3-3806-4bb2-e63c-7cd7492d2ca8"
      },
      "source": [
        "# Initiate the power analysis\n",
        "power_analysis = TTestIndPower()\n",
        "\n",
        "# Calculate power\n",
        "alpha = power_analysis.solve_power(effect_size = 0.2, power = 0.8, nobs1 = 393, ratio = 1, alternative = 'two-sided')\n",
        "\n",
        "# Print results\n",
        "print('The significance level for the hypothesis testing is', round(alpha, 2))"
      ],
      "execution_count": null,
      "outputs": [
        {
          "output_type": "stream",
          "name": "stdout",
          "text": [
            "The significance level for the hypothesis testing is 0.05\n"
          ]
        }
      ]
    },
    {
      "cell_type": "markdown",
      "metadata": {
        "id": "bjBICCdCYz88"
      },
      "source": [
        "We get a significance level of 0.05, which is consistent with the previous results."
      ]
    },
    {
      "cell_type": "markdown",
      "metadata": {
        "id": "MeoY1pwqFb7m"
      },
      "source": [
        "# Step 6: Sample Size Vs Statistical Power"
      ]
    },
    {
      "cell_type": "markdown",
      "metadata": {
        "id": "rE6BYlbzZptn"
      },
      "source": [
        "In step 6, we will examine how statistical power changes with sample size changes."
      ]
    },
    {
      "cell_type": "markdown",
      "metadata": {
        "id": "ZZSVhGWQ2UEU"
      },
      "source": [
        "`dep_var` specifies the measure for the x-axis. `dep_var='nobs'` means that we are using sample size as x-axis and power as the y axis. \n",
        "\n",
        "`nobs` is the value of sample size. We used the value of 5 to 800 to plot the graph.\n",
        "\n",
        "`effect_size` is the effect size value for the power analysis. We used the widely used Cohen's d value for small, medium, and large effect sizes. Each `effect_size` has one curve on the graph.\n",
        "\n",
        "`alpha` is the significance level. We used 0.05 for this plot."
      ]
    },
    {
      "cell_type": "code",
      "metadata": {
        "colab": {
          "base_uri": "https://localhost:8080/",
          "height": 295
        },
        "id": "KOfQDgo508t7",
        "outputId": "33d18615-5a14-4949-e41f-16c52a79a553"
      },
      "source": [
        "# Initiate the power analysis\n",
        "power_analysis = TTestIndPower()\n",
        "\n",
        "# Visualization\n",
        "power_analysis.plot_power(dep_var='nobs',\n",
        "                          nobs=np.arange(5, 800),\n",
        "                          effect_size=np.array([0.2, 0.5, 0.8]),\n",
        "                          alpha=0.05,\n",
        "                          title='Sample Size vs. Statistical Power')\n",
        "plt.show()"
      ],
      "execution_count": null,
      "outputs": [
        {
          "output_type": "display_data",
          "data": {
            "image/png": "[encoded data removed]",
            "text/plain": [
              "<Figure size 432x288 with 1 Axes>"
            ]
          },
          "metadata": {
            "needs_background": "light"
          }
        }
      ]
    },
    {
      "cell_type": "markdown",
      "metadata": {
        "id": "u2EkN9Nq9os1"
      },
      "source": [
        "From the graph, we can see that \n",
        "* Statistical power increases with the sample size. \n",
        "* To achieve the same statistical power, we need more samples to detect a smaller effect size."
      ]
    },
    {
      "cell_type": "markdown",
      "metadata": {
        "id": "QAeBZ1TY-Uqg"
      },
      "source": [
        "# Step 7: Effect Size Vs Statistical Power"
      ]
    },
    {
      "cell_type": "markdown",
      "metadata": {
        "id": "mMSElwzgBaAg"
      },
      "source": [
        "In step 7, we will examine how statistical power changes with effect size.\n",
        "\n",
        "The `'effect_size'` is used as x-axis. We plot the curves for three sample sizes, 50, 100, and 500. "
      ]
    },
    {
      "cell_type": "code",
      "metadata": {
        "colab": {
          "base_uri": "https://localhost:8080/",
          "height": 295
        },
        "id": "lQUsHwtcAzOW",
        "outputId": "ea4c7af6-4117-4e8e-db8a-a86252b0d372"
      },
      "source": [
        "# Initiate the power analysis\n",
        "power_analysis = TTestIndPower()\n",
        "\n",
        "# Visualization\n",
        "power_analysis.plot_power(dep_var='effect_size',\n",
        "                          nobs=np.array([50, 100, 500]),\n",
        "                          effect_size=np.array([0.2, 0.5, 0.8]),\n",
        "                          alpha=0.05,\n",
        "                          title='Effect Size vs. Statistical Power')\n",
        "plt.show()"
      ],
      "execution_count": null,
      "outputs": [
        {
          "output_type": "display_data",
          "data": {
            "image/png": "[encoded data removed]",
            "text/plain": [
              "<Figure size 432x288 with 1 Axes>"
            ]
          },
          "metadata": {
            "needs_background": "light"
          }
        }
      ]
    },
    {
      "cell_type": "markdown",
      "metadata": {
        "id": "7xrZLsuTCekQ"
      },
      "source": [
        "From the graph, we can see that \n",
        "* Statistical power increases with effect size.\n",
        "* When the effect size is small, a larger sample size is needed to achieve a good power value. \n",
        "* As effect size increases, the impact of sample size on power is smaller."
      ]
    },
    {
      "cell_type": "markdown",
      "metadata": {
        "id": "_fcVu6-5EjuM"
      },
      "source": [
        "# Step 8: Significance Level Vs Statistical Power"
      ]
    },
    {
      "cell_type": "markdown",
      "metadata": {
        "id": "pyhU9FPjJM_y"
      },
      "source": [
        "In step 8, we will examine how statistical power changes with the significance level.\n",
        "\n",
        "`'alpha'` is used as the x-axis. We plot the curves for the alpha range from 0.01 to 0.30. The `effect_size` is fixed at 0.5."
      ]
    },
    {
      "cell_type": "code",
      "metadata": {
        "colab": {
          "base_uri": "https://localhost:8080/",
          "height": 295
        },
        "id": "zRCliYLjEvp5",
        "outputId": "f0b434f9-6c3d-4658-c9b0-f65d630b1244"
      },
      "source": [
        "# Initiate the power analysis\n",
        "power_analysis = TTestIndPower()\n",
        "\n",
        "# Visualization\n",
        "power_analysis.plot_power(dep_var='alpha',\n",
        "                          nobs=np.array([50, 100, 500]),\n",
        "                          effect_size=0.5,\n",
        "                          alpha=np.arange(0.01,0.30, 0.01),\n",
        "                          title='Significance Level vs. Statistical Power')\n",
        "plt.show()"
      ],
      "execution_count": null,
      "outputs": [
        {
          "output_type": "display_data",
          "data": {
            "image/png": "[encoded data removed]",
            "text/plain": [
              "<Figure size 432x288 with 1 Axes>"
            ]
          },
          "metadata": {
            "needs_background": "light"
          }
        }
      ]
    },
    {
      "cell_type": "markdown",
      "metadata": {
        "id": "daZ_SADFJt1n"
      },
      "source": [
        "From the graph, we can see that \n",
        "* Statistical power increases with significance level.\n",
        "* When alpha is small, a larger sample size is needed to achieve a good power value. \n",
        "* As alpha increases, the impact of sample size on power is smaller."
      ]
    },
    {
      "cell_type": "markdown",
      "metadata": {
        "id": "a6QcdsusL5Q9"
      },
      "source": [
        "# Summary"
      ]
    },
    {
      "cell_type": "markdown",
      "metadata": {
        "id": "VsSUNZfqMTVP"
      },
      "source": [
        "In this tutorial, we talked about how to use statistical power analysis for hypothesis testing. The method can be used to calculate the minimum sample size needed for AB testing. We covered\n",
        "* What are significance level, effect size, statistical power, and sample size?\n",
        "* How to calculate the sample size for hypothesis testing (AB testing) using Python?\n",
        "* How to calculate the statistical power using Python?\n",
        "* How to calculate the minimum detectable effect size using Python?\n",
        "* How to calculate the significance level using Python?\n",
        "* How do sample size, significance level, and effect size impact the statistical power?"
      ]
    },
    {
      "cell_type": "markdown",
      "metadata": {
        "id": "pWxkD1mINHwe"
      },
      "source": [
        "# Recommended Tutorials"
      ]
    },
    {
      "cell_type": "markdown",
      "metadata": {
        "id": "xf6f2gHSNN94"
      },
      "source": [
        "* [Four Oversampling And Under-Sampling Methods For Imbalanced Classification Using Python](https://grabngoinfo.com/four-oversampling-and-under-sampling-methods-for-imbalanced-classification-using-python/)\n",
        "* [Neural Network Model Balanced Weight For Imbalanced Classification In Keras](https://grabngoinfo.com/neural-network-model-balanced-weight-for-imbalanced-classification-in-keras/)\n",
        "* [Isolation Forest For Anomaly Detection](https://grabngoinfo.com/isolation-forest-for-anomaly-detection-and-imbalanced-classification/)\n",
        "* [Sentiment Analysis Without Modeling: TextBlob Vs VADER Vs Flair](https://grabngoinfo.com/sentiment-analysis-without-modeling-textblob-vs-vader-vs-flair/)"
      ]
    },
    {
      "cell_type": "markdown",
      "metadata": {
        "id": "td4JImfedR2W"
      },
      "source": [
        "# References"
      ]
    },
    {
      "cell_type": "markdown",
      "metadata": {
        "id": "Ewjmy7S1dUxW"
      },
      "source": [
        "* [statsmodels documentation on power analysis](https://www.statsmodels.org/dev/generated/statsmodels.stats.power.TTestIndPower.html)"
      ]
    }
  ]
}